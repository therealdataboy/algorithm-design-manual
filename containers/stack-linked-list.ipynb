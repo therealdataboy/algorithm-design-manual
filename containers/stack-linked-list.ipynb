{
 "cells": [
  {
   "cell_type": "markdown",
   "metadata": {},
   "source": [
    "### Stack"
   ]
  },
  {
   "cell_type": "code",
   "execution_count": 4,
   "metadata": {},
   "outputs": [],
   "source": [
    "class Plate(object):\n",
    "    def __init__(self, data, next=None) -> None:\n",
    "        self.data = data\n",
    "        self.next = next\n",
    "    \n",
    "    def __repr__(self) -> str:\n",
    "        return f\"<data={self.data}, next={self.next}>\"\n",
    "    \n",
    "\n",
    "class Stack(object):\n",
    "    def __init__(self) -> None:\n",
    "        self.top = None\n",
    "    \n",
    "    def push(self, data:object):\n",
    "        self.top = Plate(data=data, next=self.top)\n",
    "        return self.top\n",
    "    \n",
    "    def pop(self):\n",
    "        \"\"\"\n",
    "            complexity : O(1) [ constant time ]\n",
    "        \"\"\"\n",
    "        if self.top is None:\n",
    "            print(\"Stack is already empty!!!\")\n",
    "            return\n",
    "        to_be_returned = self.top\n",
    "        self.top = self.top.next\n",
    "        _data = to_be_returned.data\n",
    "        del to_be_returned\n",
    "        return _data\n",
    "    \n",
    "    def display(self):\n",
    "        \"\"\"\n",
    "            complexity : O(1) [ constant time ]\n",
    "        \"\"\"\n",
    "        print(\"---------\")\n",
    "        if self.top is None:\n",
    "            print(\"Stack is empty!!!\")\n",
    "            return\n",
    "        plate = self.top\n",
    "        while plate is not None:\n",
    "            print(plate.data)\n",
    "            plate = plate.next\n",
    "        \n",
    "        print(\"---------\")\n",
    "    \n",
    "    def get_top_value(self):\n",
    "        return self.top.data\n",
    "\n",
    "    def is_empty(self):\n",
    "        return True if self.top == None else False"
   ]
  },
  {
   "cell_type": "code",
   "execution_count": 15,
   "metadata": {},
   "outputs": [
    {
     "name": "stdout",
     "output_type": "stream",
     "text": [
      "---------\n",
      "Stack is empty!!!\n",
      "---------\n",
      "9\n",
      "3\n",
      "4\n",
      "1\n",
      "---------\n",
      "---------\n",
      "7\n",
      "4\n",
      "1\n",
      "---------\n"
     ]
    }
   ],
   "source": [
    "# stack = Stack()\n",
    "# stack.display()\n",
    "# stack.push(1)\n",
    "# stack.push(4)\n",
    "# stack.push(3)\n",
    "# stack.push(9)\n",
    "# stack.display()\n",
    "# stack.pop()\n",
    "# stack.pop()\n",
    "# stack.push(7)\n",
    "# stack.display()"
   ]
  }
 ],
 "metadata": {
  "kernelspec": {
   "display_name": "Python 3",
   "language": "python",
   "name": "python3"
  },
  "language_info": {
   "codemirror_mode": {
    "name": "ipython",
    "version": 3
   },
   "file_extension": ".py",
   "mimetype": "text/x-python",
   "name": "python",
   "nbconvert_exporter": "python",
   "pygments_lexer": "ipython3",
   "version": "3.12.4"
  }
 },
 "nbformat": 4,
 "nbformat_minor": 2
}
