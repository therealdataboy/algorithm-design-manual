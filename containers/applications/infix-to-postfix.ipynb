{
 "cells": [
  {
   "cell_type": "code",
   "execution_count": 60,
   "metadata": {},
   "outputs": [],
   "source": [
    "import import_ipynb\n",
    "%run ../stack-linked-list.ipynb"
   ]
  },
  {
   "cell_type": "code",
   "execution_count": 61,
   "metadata": {},
   "outputs": [],
   "source": [
    "infix_expression = \"(2*3+4*(5-6))\""
   ]
  },
  {
   "cell_type": "code",
   "execution_count": 62,
   "metadata": {},
   "outputs": [],
   "source": [
    "def get_priority(operator):\n",
    "    return 0 if operator in ['(', ')'] else 1 if operator in ['-', '+'] else 2 if operator in ['*', '/'] else -1"
   ]
  },
  {
   "cell_type": "code",
   "execution_count": 63,
   "metadata": {},
   "outputs": [],
   "source": [
    "def inf_to_postfix(expression):\n",
    "    stack = Stack()\n",
    "    for literal in expression:\n",
    "        if literal.isalnum():\n",
    "            print(literal, end='')\n",
    "        elif literal == '(':\n",
    "            stack.push(literal)\n",
    "        elif literal == ')':\n",
    "            while(stack.get_top_value() != '('):\n",
    "                print(stack.pop(), end='')\n",
    "            stack.pop()\n",
    "        else:\n",
    "            if get_priority(literal) == -1:\n",
    "                return \"Error: Invalid Operator Encountered.\"\n",
    "            while(get_priority(operator=stack.get_top_value())>=get_priority(literal)):\n",
    "                print(stack.pop(), end='')\n",
    "            stack.push(literal)\n",
    "    while not stack.is_empty():\n",
    "        print(stack.pop(), end='')"
   ]
  },
  {
   "cell_type": "code",
   "execution_count": 64,
   "metadata": {},
   "outputs": [
    {
     "name": "stdout",
     "output_type": "stream",
     "text": [
      "23*456-*+"
     ]
    }
   ],
   "source": [
    "inf_to_postfix(expression=infix_expression)"
   ]
  },
  {
   "cell_type": "markdown",
   "metadata": {},
   "source": [
    "* time complexity of the given approach is - O(n)"
   ]
  }
 ],
 "metadata": {
  "kernelspec": {
   "display_name": "Python 3",
   "language": "python",
   "name": "python3"
  },
  "language_info": {
   "codemirror_mode": {
    "name": "ipython",
    "version": 3
   },
   "file_extension": ".py",
   "mimetype": "text/x-python",
   "name": "python",
   "nbconvert_exporter": "python",
   "pygments_lexer": "ipython3",
   "version": "3.12.4"
  }
 },
 "nbformat": 4,
 "nbformat_minor": 2
}
