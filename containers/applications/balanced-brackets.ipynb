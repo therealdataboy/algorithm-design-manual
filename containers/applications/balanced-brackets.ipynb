{
 "cells": [
  {
   "cell_type": "code",
   "execution_count": 13,
   "metadata": {},
   "outputs": [],
   "source": [
    "import import_ipynb\n",
    "%run ../stack-linked-list.ipynb"
   ]
  },
  {
   "cell_type": "code",
   "execution_count": 14,
   "metadata": {},
   "outputs": [],
   "source": [
    "def evaluate(expression):\n",
    "    \"\"\"\n",
    "        This method evaluate the expression on whether the expression is balanced in \n",
    "        terms of brackets or not.\n",
    "    \"\"\"\n",
    "    bracket_match = {\n",
    "        '}': '{',\n",
    "        ']': '[',\n",
    "        ')': '('\n",
    "    }\n",
    "\n",
    "    # Initialise the stack to store the expression\n",
    "    stack = Stack()\n",
    "\n",
    "    for literal in expression:\n",
    "        if literal in bracket_match.values():\n",
    "            stack.push(data=literal)\n",
    "        elif literal in bracket_match.keys():\n",
    "            poped_bracket = stack.pop()\n",
    "            expected_opening_bracket = bracket_match.get(literal)\n",
    "            if poped_bracket != expected_opening_bracket:\n",
    "                raise Exception(\"Error: unbalanced brackets in the expression.\")\n",
    "        else:\n",
    "            pass\n",
    "    \n",
    "    return \"Balanced expression\""
   ]
  },
  {
   "cell_type": "code",
   "execution_count": 15,
   "metadata": {},
   "outputs": [
    {
     "data": {
      "text/plain": [
       "'Balanced expression'"
      ]
     },
     "execution_count": 15,
     "metadata": {},
     "output_type": "execute_result"
    }
   ],
   "source": [
    "expression1 = \"[1+2*(3-2)+{9-5+(5-3)}]\"\n",
    "\n",
    "evaluate(expression=expression1)"
   ]
  }
 ],
 "metadata": {
  "kernelspec": {
   "display_name": "Python 3",
   "language": "python",
   "name": "python3"
  },
  "language_info": {
   "codemirror_mode": {
    "name": "ipython",
    "version": 3
   },
   "file_extension": ".py",
   "mimetype": "text/x-python",
   "name": "python",
   "nbconvert_exporter": "python",
   "pygments_lexer": "ipython3",
   "version": "3.12.4"
  }
 },
 "nbformat": 4,
 "nbformat_minor": 2
}
